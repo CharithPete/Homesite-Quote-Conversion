{
  "nbformat": 4,
  "nbformat_minor": 0,
  "metadata": {
    "accelerator": "GPU",
    "colab": {
      "name": "Assignment 3.ipynb",
      "provenance": [],
      "collapsed_sections": [
        "7_QLaFFVJzzB",
        "kjLqadjSJrUg",
        "cOhEZi-w_XwH",
        "EJOWNuGBMfP4",
        "M8Wqxw74jis_",
        "SJlsfFGc2ldV",
        "A5qztzKUzCHM",
        "hP-6S4Zt-haw",
        "ls7OLEIL3Rmx",
        "ml4Ms--jJfAd",
        "xgG7a8gXessp",
        "UOX0bcaihERu"
      ]
    },
    "kernelspec": {
      "display_name": "Python 3",
      "name": "python3"
    },
    "language_info": {
      "name": "python"
    }
  },
  "cells": [
    {
      "cell_type": "markdown",
      "metadata": {
        "id": "7_QLaFFVJzzB"
      },
      "source": [
        "#**Importing Libraries & G-Drive Set Up**"
      ]
    },
    {
      "cell_type": "code",
      "metadata": {
        "colab": {
          "base_uri": "https://localhost:8080/"
        },
        "id": "MqyXHSs1EiNR",
        "outputId": "35cf80c7-594b-4879-e7a8-f1886dfb6130"
      },
      "source": [
        "# To upload our datasets from our working directory we need to mount our drive contents to the colab environment. \n",
        "# For the code to do so you can search “mount” in code snippets or use the code given below. \n",
        "# Our entire drive contents are now mounted on colab at the location “/gdrive”.\n",
        "from google.colab import drive\n",
        "drive.mount('/gdrive')\n",
        "#Change current working directory to gdrive\n",
        "%cd /gdrive\n"
      ],
      "execution_count": null,
      "outputs": [
        {
          "output_type": "stream",
          "name": "stdout",
          "text": [
            "Drive already mounted at /gdrive; to attempt to forcibly remount, call drive.mount(\"/gdrive\", force_remount=True).\n",
            "/gdrive\n"
          ]
        }
      ]
    },
    {
      "cell_type": "code",
      "metadata": {
        "colab": {
          "base_uri": "https://localhost:8080/"
        },
        "id": "Hm4NyM0cEoj7",
        "outputId": "811e542e-9495-49aa-a436-4ab2b28d7520"
      },
      "source": [
        "!pip install vecstack"
      ],
      "execution_count": null,
      "outputs": [
        {
          "output_type": "stream",
          "name": "stdout",
          "text": [
            "Collecting vecstack\n",
            "  Downloading vecstack-0.4.0.tar.gz (18 kB)\n",
            "Requirement already satisfied: numpy in /usr/local/lib/python3.7/dist-packages (from vecstack) (1.19.5)\n",
            "Requirement already satisfied: scipy in /usr/local/lib/python3.7/dist-packages (from vecstack) (1.4.1)\n",
            "Requirement already satisfied: scikit-learn>=0.18 in /usr/local/lib/python3.7/dist-packages (from vecstack) (0.22.2.post1)\n",
            "Requirement already satisfied: joblib>=0.11 in /usr/local/lib/python3.7/dist-packages (from scikit-learn>=0.18->vecstack) (1.0.1)\n",
            "Building wheels for collected packages: vecstack\n",
            "  Building wheel for vecstack (setup.py) ... \u001b[?25l\u001b[?25hdone\n",
            "  Created wheel for vecstack: filename=vecstack-0.4.0-py3-none-any.whl size=19878 sha256=a8003252c3f42bb87e52a9dd85de6fc9cc1395e5d2d6379a65420bb4d37e89a6\n",
            "  Stored in directory: /root/.cache/pip/wheels/28/fe/0c/fe8e43660e3316d7ce204e59a79a72246c0ae9b6c5c79841c8\n",
            "Successfully built vecstack\n",
            "Installing collected packages: vecstack\n",
            "Successfully installed vecstack-0.4.0\n"
          ]
        }
      ]
    },
    {
      "cell_type": "code",
      "metadata": {
        "id": "6-agnzZfEp8_",
        "colab": {
          "base_uri": "https://localhost:8080/"
        },
        "outputId": "6b0e0d16-c3ef-43d1-8a92-ec87ea49b974"
      },
      "source": [
        "from vecstack import stacking\n",
        "import pandas as pd\n",
        "import numpy as np\n",
        "from sklearn.metrics import accuracy_score #works\n",
        "from sklearn.model_selection import train_test_split\n",
        "from sklearn.ensemble import RandomForestClassifier\n",
        "from sklearn.tree import DecisionTreeClassifier\n",
        "from sklearn.model_selection import GridSearchCV\n",
        "from sklearn.model_selection import RandomizedSearchCV\n",
        "from sklearn.model_selection import cross_val_score\n",
        "from sklearn.metrics import classification_report, confusion_matrix\n",
        "from sklearn.ensemble import GradientBoostingClassifier\n",
        "from sklearn.datasets.samples_generator import make_blobs\n",
        "from sklearn.neighbors import KNeighborsClassifier\n",
        "from matplotlib import pyplot as plt\n",
        "from sklearn.calibration import CalibratedClassifierCV\n",
        "from sklearn.neural_network import MLPClassifier\n",
        "#from sklearn.ensemble import RandomForestClassifier\n",
        "from imblearn.over_sampling import SMOTE \n",
        "from sklearn.svm import SVC\n",
        "from sklearn import svm\n",
        "from collections import Counter #for Smote, \n",
        "\n",
        "import warnings\n",
        "warnings.filterwarnings(\"ignore\")\n"
      ],
      "execution_count": null,
      "outputs": [
        {
          "output_type": "stream",
          "name": "stderr",
          "text": [
            "/usr/local/lib/python3.7/dist-packages/sklearn/utils/deprecation.py:144: FutureWarning: The sklearn.datasets.samples_generator module is  deprecated in version 0.22 and will be removed in version 0.24. The corresponding classes / functions should instead be imported from sklearn.datasets. Anything that cannot be imported from sklearn.datasets is now part of the private API.\n",
            "  warnings.warn(message, FutureWarning)\n",
            "/usr/local/lib/python3.7/dist-packages/sklearn/externals/six.py:31: FutureWarning: The module is deprecated in version 0.21 and will be removed in version 0.23 since we've dropped support for Python 2.7. Please rely on the official version of six (https://pypi.org/project/six/).\n",
            "  \"(https://pypi.org/project/six/).\", FutureWarning)\n",
            "/usr/local/lib/python3.7/dist-packages/sklearn/utils/deprecation.py:144: FutureWarning: The sklearn.neighbors.base module is  deprecated in version 0.22 and will be removed in version 0.24. The corresponding classes / functions should instead be imported from sklearn.neighbors. Anything that cannot be imported from sklearn.neighbors is now part of the private API.\n",
            "  warnings.warn(message, FutureWarning)\n"
          ]
        }
      ]
    },
    {
      "cell_type": "markdown",
      "metadata": {
        "id": "kjLqadjSJrUg"
      },
      "source": [
        "#**Exploratory Data Analysis**"
      ]
    },
    {
      "cell_type": "code",
      "metadata": {
        "colab": {
          "base_uri": "https://localhost:8080/"
        },
        "id": "roVtElOFEsFN",
        "outputId": "d5e6a807-cae6-48b6-9e95-3bb2e099708f"
      },
      "source": [
        "\n",
        "trainfile = r'/gdrive/My Drive/CIS 508/Assignment 3/RevisedHomesiteTrain1.csv'\n",
        "train_data = pd.read_csv(trainfile)\n",
        "\n",
        "#train_data \n",
        "\n",
        "\n",
        "testfile = r'/gdrive/My Drive/CIS 508/Assignment 3/RevisedHomesiteTest1.csv'\n",
        "test_data = pd.read_csv(testfile)\n",
        "\n",
        "#test_data \n",
        "\n",
        "\n",
        "print(train_data.shape)    \n",
        "print(test_data.shape)    "
      ],
      "execution_count": null,
      "outputs": [
        {
          "output_type": "stream",
          "name": "stdout",
          "text": [
            "(65000, 596)\n",
            "(173836, 596)\n"
          ]
        }
      ]
    },
    {
      "cell_type": "code",
      "metadata": {
        "colab": {
          "base_uri": "https://localhost:8080/",
          "height": 253
        },
        "id": "vb1Qf7M0EuF-",
        "outputId": "50444b39-a81b-4682-e872-6046fa42523f"
      },
      "source": [
        "test_data.head()"
      ],
      "execution_count": null,
      "outputs": [
        {
          "output_type": "execute_result",
          "data": {
            "text/html": [
              "<div>\n",
              "<style scoped>\n",
              "    .dataframe tbody tr th:only-of-type {\n",
              "        vertical-align: middle;\n",
              "    }\n",
              "\n",
              "    .dataframe tbody tr th {\n",
              "        vertical-align: top;\n",
              "    }\n",
              "\n",
              "    .dataframe thead th {\n",
              "        text-align: right;\n",
              "    }\n",
              "</style>\n",
              "<table border=\"1\" class=\"dataframe\">\n",
              "  <thead>\n",
              "    <tr style=\"text-align: right;\">\n",
              "      <th></th>\n",
              "      <th>CoverageField11A</th>\n",
              "      <th>CoverageField11B</th>\n",
              "      <th>CoverageField1A</th>\n",
              "      <th>CoverageField1B</th>\n",
              "      <th>CoverageField2A</th>\n",
              "      <th>CoverageField2B</th>\n",
              "      <th>CoverageField3A</th>\n",
              "      <th>CoverageField3B</th>\n",
              "      <th>CoverageField4A</th>\n",
              "      <th>CoverageField4B</th>\n",
              "      <th>CoverageField5A</th>\n",
              "      <th>CoverageField5B</th>\n",
              "      <th>CoverageField6A</th>\n",
              "      <th>CoverageField6B</th>\n",
              "      <th>Field10</th>\n",
              "      <th>Field11</th>\n",
              "      <th>Field7</th>\n",
              "      <th>Field8</th>\n",
              "      <th>Field9</th>\n",
              "      <th>GeographicField10A</th>\n",
              "      <th>GeographicField10B</th>\n",
              "      <th>GeographicField11A</th>\n",
              "      <th>GeographicField11B</th>\n",
              "      <th>GeographicField12A</th>\n",
              "      <th>GeographicField12B</th>\n",
              "      <th>GeographicField13A</th>\n",
              "      <th>GeographicField13B</th>\n",
              "      <th>GeographicField14A</th>\n",
              "      <th>GeographicField14B</th>\n",
              "      <th>GeographicField15A</th>\n",
              "      <th>GeographicField15B</th>\n",
              "      <th>GeographicField16A</th>\n",
              "      <th>GeographicField16B</th>\n",
              "      <th>GeographicField17A</th>\n",
              "      <th>GeographicField17B</th>\n",
              "      <th>GeographicField18A</th>\n",
              "      <th>GeographicField18B</th>\n",
              "      <th>GeographicField19A</th>\n",
              "      <th>GeographicField19B</th>\n",
              "      <th>GeographicField1A</th>\n",
              "      <th>...</th>\n",
              "      <th>PropertyField7_R</th>\n",
              "      <th>PropertyField7_S</th>\n",
              "      <th>PropertyField7_T</th>\n",
              "      <th>PropertyField14_A</th>\n",
              "      <th>PropertyField14_B</th>\n",
              "      <th>PropertyField14_C</th>\n",
              "      <th>PropertyField14_D</th>\n",
              "      <th>PropertyField28_A</th>\n",
              "      <th>PropertyField28_B</th>\n",
              "      <th>PropertyField28_C</th>\n",
              "      <th>PropertyField28_D</th>\n",
              "      <th>PropertyField30_N</th>\n",
              "      <th>PropertyField30_Y</th>\n",
              "      <th>PropertyField31_K</th>\n",
              "      <th>PropertyField31_M</th>\n",
              "      <th>PropertyField31_N</th>\n",
              "      <th>PropertyField31_O</th>\n",
              "      <th>PropertyField32_N</th>\n",
              "      <th>PropertyField32_Y</th>\n",
              "      <th>PropertyField33_E</th>\n",
              "      <th>PropertyField33_F</th>\n",
              "      <th>PropertyField33_G</th>\n",
              "      <th>PropertyField33_H</th>\n",
              "      <th>PropertyField34_N</th>\n",
              "      <th>PropertyField34_Y</th>\n",
              "      <th>PropertyField36_N</th>\n",
              "      <th>PropertyField36_Y</th>\n",
              "      <th>PropertyField37_</th>\n",
              "      <th>PropertyField37_N</th>\n",
              "      <th>PropertyField37_Y</th>\n",
              "      <th>PropertyField38_N</th>\n",
              "      <th>PropertyField38_Y</th>\n",
              "      <th>GeographicField63_</th>\n",
              "      <th>GeographicField63_N</th>\n",
              "      <th>GeographicField63_Y</th>\n",
              "      <th>GeographicField64_CA</th>\n",
              "      <th>GeographicField64_IL</th>\n",
              "      <th>GeographicField64_NJ</th>\n",
              "      <th>GeographicField64_TX</th>\n",
              "      <th>GeographicField64</th>\n",
              "    </tr>\n",
              "  </thead>\n",
              "  <tbody>\n",
              "    <tr>\n",
              "      <th>0</th>\n",
              "      <td>13</td>\n",
              "      <td>22</td>\n",
              "      <td>4</td>\n",
              "      <td>4</td>\n",
              "      <td>4</td>\n",
              "      <td>4</td>\n",
              "      <td>3</td>\n",
              "      <td>3</td>\n",
              "      <td>3</td>\n",
              "      <td>4</td>\n",
              "      <td>13</td>\n",
              "      <td>22</td>\n",
              "      <td>13</td>\n",
              "      <td>23</td>\n",
              "      <td>1487.0</td>\n",
              "      <td>1.3045</td>\n",
              "      <td>16</td>\n",
              "      <td>0.9364</td>\n",
              "      <td>0.0006</td>\n",
              "      <td>-1</td>\n",
              "      <td>25</td>\n",
              "      <td>9</td>\n",
              "      <td>18</td>\n",
              "      <td>13</td>\n",
              "      <td>18</td>\n",
              "      <td>9</td>\n",
              "      <td>18</td>\n",
              "      <td>-1</td>\n",
              "      <td>19</td>\n",
              "      <td>10</td>\n",
              "      <td>13</td>\n",
              "      <td>8</td>\n",
              "      <td>17</td>\n",
              "      <td>2</td>\n",
              "      <td>10</td>\n",
              "      <td>-1</td>\n",
              "      <td>20</td>\n",
              "      <td>19</td>\n",
              "      <td>18</td>\n",
              "      <td>25</td>\n",
              "      <td>...</td>\n",
              "      <td>0</td>\n",
              "      <td>0</td>\n",
              "      <td>0</td>\n",
              "      <td>1</td>\n",
              "      <td>0</td>\n",
              "      <td>0</td>\n",
              "      <td>0</td>\n",
              "      <td>0</td>\n",
              "      <td>1</td>\n",
              "      <td>0</td>\n",
              "      <td>0</td>\n",
              "      <td>1</td>\n",
              "      <td>0</td>\n",
              "      <td>0</td>\n",
              "      <td>0</td>\n",
              "      <td>1</td>\n",
              "      <td>0</td>\n",
              "      <td>0</td>\n",
              "      <td>1</td>\n",
              "      <td>0</td>\n",
              "      <td>0</td>\n",
              "      <td>1</td>\n",
              "      <td>0</td>\n",
              "      <td>1</td>\n",
              "      <td>0</td>\n",
              "      <td>1</td>\n",
              "      <td>0</td>\n",
              "      <td>0</td>\n",
              "      <td>0</td>\n",
              "      <td>1</td>\n",
              "      <td>1</td>\n",
              "      <td>0</td>\n",
              "      <td>0</td>\n",
              "      <td>0</td>\n",
              "      <td>1</td>\n",
              "      <td>0</td>\n",
              "      <td>0</td>\n",
              "      <td>0</td>\n",
              "      <td>0</td>\n",
              "      <td>IL</td>\n",
              "    </tr>\n",
              "    <tr>\n",
              "      <th>1</th>\n",
              "      <td>4</td>\n",
              "      <td>5</td>\n",
              "      <td>8</td>\n",
              "      <td>14</td>\n",
              "      <td>8</td>\n",
              "      <td>14</td>\n",
              "      <td>7</td>\n",
              "      <td>12</td>\n",
              "      <td>8</td>\n",
              "      <td>13</td>\n",
              "      <td>13</td>\n",
              "      <td>22</td>\n",
              "      <td>13</td>\n",
              "      <td>23</td>\n",
              "      <td>564.0</td>\n",
              "      <td>1.1886</td>\n",
              "      <td>11</td>\n",
              "      <td>0.9919</td>\n",
              "      <td>0.0038</td>\n",
              "      <td>-1</td>\n",
              "      <td>25</td>\n",
              "      <td>4</td>\n",
              "      <td>15</td>\n",
              "      <td>8</td>\n",
              "      <td>13</td>\n",
              "      <td>5</td>\n",
              "      <td>14</td>\n",
              "      <td>-1</td>\n",
              "      <td>13</td>\n",
              "      <td>9</td>\n",
              "      <td>11</td>\n",
              "      <td>5</td>\n",
              "      <td>12</td>\n",
              "      <td>2</td>\n",
              "      <td>16</td>\n",
              "      <td>-1</td>\n",
              "      <td>22</td>\n",
              "      <td>23</td>\n",
              "      <td>24</td>\n",
              "      <td>17</td>\n",
              "      <td>...</td>\n",
              "      <td>0</td>\n",
              "      <td>0</td>\n",
              "      <td>0</td>\n",
              "      <td>1</td>\n",
              "      <td>0</td>\n",
              "      <td>0</td>\n",
              "      <td>0</td>\n",
              "      <td>0</td>\n",
              "      <td>1</td>\n",
              "      <td>0</td>\n",
              "      <td>0</td>\n",
              "      <td>1</td>\n",
              "      <td>0</td>\n",
              "      <td>0</td>\n",
              "      <td>0</td>\n",
              "      <td>0</td>\n",
              "      <td>1</td>\n",
              "      <td>0</td>\n",
              "      <td>1</td>\n",
              "      <td>0</td>\n",
              "      <td>0</td>\n",
              "      <td>0</td>\n",
              "      <td>1</td>\n",
              "      <td>1</td>\n",
              "      <td>0</td>\n",
              "      <td>1</td>\n",
              "      <td>0</td>\n",
              "      <td>0</td>\n",
              "      <td>1</td>\n",
              "      <td>0</td>\n",
              "      <td>1</td>\n",
              "      <td>0</td>\n",
              "      <td>0</td>\n",
              "      <td>1</td>\n",
              "      <td>0</td>\n",
              "      <td>0</td>\n",
              "      <td>0</td>\n",
              "      <td>0</td>\n",
              "      <td>0</td>\n",
              "      <td>NJ</td>\n",
              "    </tr>\n",
              "    <tr>\n",
              "      <th>2</th>\n",
              "      <td>3</td>\n",
              "      <td>3</td>\n",
              "      <td>11</td>\n",
              "      <td>18</td>\n",
              "      <td>11</td>\n",
              "      <td>18</td>\n",
              "      <td>10</td>\n",
              "      <td>16</td>\n",
              "      <td>10</td>\n",
              "      <td>18</td>\n",
              "      <td>13</td>\n",
              "      <td>22</td>\n",
              "      <td>13</td>\n",
              "      <td>23</td>\n",
              "      <td>564.0</td>\n",
              "      <td>1.0670</td>\n",
              "      <td>15</td>\n",
              "      <td>0.8945</td>\n",
              "      <td>0.0038</td>\n",
              "      <td>-1</td>\n",
              "      <td>25</td>\n",
              "      <td>4</td>\n",
              "      <td>10</td>\n",
              "      <td>10</td>\n",
              "      <td>16</td>\n",
              "      <td>5</td>\n",
              "      <td>10</td>\n",
              "      <td>-1</td>\n",
              "      <td>11</td>\n",
              "      <td>11</td>\n",
              "      <td>18</td>\n",
              "      <td>5</td>\n",
              "      <td>13</td>\n",
              "      <td>2</td>\n",
              "      <td>13</td>\n",
              "      <td>-1</td>\n",
              "      <td>15</td>\n",
              "      <td>21</td>\n",
              "      <td>20</td>\n",
              "      <td>3</td>\n",
              "      <td>...</td>\n",
              "      <td>1</td>\n",
              "      <td>0</td>\n",
              "      <td>0</td>\n",
              "      <td>0</td>\n",
              "      <td>0</td>\n",
              "      <td>1</td>\n",
              "      <td>0</td>\n",
              "      <td>0</td>\n",
              "      <td>1</td>\n",
              "      <td>0</td>\n",
              "      <td>0</td>\n",
              "      <td>1</td>\n",
              "      <td>0</td>\n",
              "      <td>0</td>\n",
              "      <td>1</td>\n",
              "      <td>0</td>\n",
              "      <td>0</td>\n",
              "      <td>0</td>\n",
              "      <td>1</td>\n",
              "      <td>0</td>\n",
              "      <td>0</td>\n",
              "      <td>1</td>\n",
              "      <td>0</td>\n",
              "      <td>0</td>\n",
              "      <td>1</td>\n",
              "      <td>1</td>\n",
              "      <td>0</td>\n",
              "      <td>0</td>\n",
              "      <td>1</td>\n",
              "      <td>0</td>\n",
              "      <td>1</td>\n",
              "      <td>0</td>\n",
              "      <td>0</td>\n",
              "      <td>1</td>\n",
              "      <td>0</td>\n",
              "      <td>0</td>\n",
              "      <td>0</td>\n",
              "      <td>0</td>\n",
              "      <td>0</td>\n",
              "      <td>NJ</td>\n",
              "    </tr>\n",
              "    <tr>\n",
              "      <th>3</th>\n",
              "      <td>5</td>\n",
              "      <td>9</td>\n",
              "      <td>14</td>\n",
              "      <td>22</td>\n",
              "      <td>15</td>\n",
              "      <td>22</td>\n",
              "      <td>13</td>\n",
              "      <td>20</td>\n",
              "      <td>22</td>\n",
              "      <td>25</td>\n",
              "      <td>13</td>\n",
              "      <td>22</td>\n",
              "      <td>13</td>\n",
              "      <td>23</td>\n",
              "      <td>1113.0</td>\n",
              "      <td>1.2665</td>\n",
              "      <td>21</td>\n",
              "      <td>0.8870</td>\n",
              "      <td>0.0004</td>\n",
              "      <td>-1</td>\n",
              "      <td>25</td>\n",
              "      <td>24</td>\n",
              "      <td>24</td>\n",
              "      <td>23</td>\n",
              "      <td>23</td>\n",
              "      <td>24</td>\n",
              "      <td>24</td>\n",
              "      <td>25</td>\n",
              "      <td>25</td>\n",
              "      <td>23</td>\n",
              "      <td>22</td>\n",
              "      <td>24</td>\n",
              "      <td>25</td>\n",
              "      <td>2</td>\n",
              "      <td>7</td>\n",
              "      <td>-1</td>\n",
              "      <td>13</td>\n",
              "      <td>11</td>\n",
              "      <td>14</td>\n",
              "      <td>9</td>\n",
              "      <td>...</td>\n",
              "      <td>0</td>\n",
              "      <td>0</td>\n",
              "      <td>0</td>\n",
              "      <td>0</td>\n",
              "      <td>0</td>\n",
              "      <td>1</td>\n",
              "      <td>0</td>\n",
              "      <td>0</td>\n",
              "      <td>1</td>\n",
              "      <td>0</td>\n",
              "      <td>0</td>\n",
              "      <td>1</td>\n",
              "      <td>0</td>\n",
              "      <td>0</td>\n",
              "      <td>1</td>\n",
              "      <td>0</td>\n",
              "      <td>0</td>\n",
              "      <td>1</td>\n",
              "      <td>0</td>\n",
              "      <td>0</td>\n",
              "      <td>0</td>\n",
              "      <td>1</td>\n",
              "      <td>0</td>\n",
              "      <td>1</td>\n",
              "      <td>0</td>\n",
              "      <td>1</td>\n",
              "      <td>0</td>\n",
              "      <td>0</td>\n",
              "      <td>1</td>\n",
              "      <td>0</td>\n",
              "      <td>1</td>\n",
              "      <td>0</td>\n",
              "      <td>0</td>\n",
              "      <td>1</td>\n",
              "      <td>0</td>\n",
              "      <td>0</td>\n",
              "      <td>0</td>\n",
              "      <td>0</td>\n",
              "      <td>0</td>\n",
              "      <td>TX</td>\n",
              "    </tr>\n",
              "    <tr>\n",
              "      <th>4</th>\n",
              "      <td>12</td>\n",
              "      <td>21</td>\n",
              "      <td>4</td>\n",
              "      <td>5</td>\n",
              "      <td>4</td>\n",
              "      <td>5</td>\n",
              "      <td>4</td>\n",
              "      <td>4</td>\n",
              "      <td>4</td>\n",
              "      <td>5</td>\n",
              "      <td>13</td>\n",
              "      <td>22</td>\n",
              "      <td>13</td>\n",
              "      <td>23</td>\n",
              "      <td>935.0</td>\n",
              "      <td>1.0200</td>\n",
              "      <td>25</td>\n",
              "      <td>0.9153</td>\n",
              "      <td>0.0007</td>\n",
              "      <td>-1</td>\n",
              "      <td>25</td>\n",
              "      <td>2</td>\n",
              "      <td>3</td>\n",
              "      <td>3</td>\n",
              "      <td>5</td>\n",
              "      <td>2</td>\n",
              "      <td>5</td>\n",
              "      <td>-1</td>\n",
              "      <td>7</td>\n",
              "      <td>6</td>\n",
              "      <td>6</td>\n",
              "      <td>2</td>\n",
              "      <td>6</td>\n",
              "      <td>15</td>\n",
              "      <td>23</td>\n",
              "      <td>-1</td>\n",
              "      <td>17</td>\n",
              "      <td>4</td>\n",
              "      <td>8</td>\n",
              "      <td>2</td>\n",
              "      <td>...</td>\n",
              "      <td>1</td>\n",
              "      <td>0</td>\n",
              "      <td>0</td>\n",
              "      <td>0</td>\n",
              "      <td>0</td>\n",
              "      <td>1</td>\n",
              "      <td>0</td>\n",
              "      <td>0</td>\n",
              "      <td>1</td>\n",
              "      <td>0</td>\n",
              "      <td>0</td>\n",
              "      <td>1</td>\n",
              "      <td>0</td>\n",
              "      <td>0</td>\n",
              "      <td>0</td>\n",
              "      <td>0</td>\n",
              "      <td>1</td>\n",
              "      <td>0</td>\n",
              "      <td>1</td>\n",
              "      <td>0</td>\n",
              "      <td>0</td>\n",
              "      <td>0</td>\n",
              "      <td>1</td>\n",
              "      <td>1</td>\n",
              "      <td>0</td>\n",
              "      <td>0</td>\n",
              "      <td>1</td>\n",
              "      <td>0</td>\n",
              "      <td>1</td>\n",
              "      <td>0</td>\n",
              "      <td>1</td>\n",
              "      <td>0</td>\n",
              "      <td>0</td>\n",
              "      <td>1</td>\n",
              "      <td>0</td>\n",
              "      <td>0</td>\n",
              "      <td>0</td>\n",
              "      <td>0</td>\n",
              "      <td>0</td>\n",
              "      <td>CA</td>\n",
              "    </tr>\n",
              "  </tbody>\n",
              "</table>\n",
              "<p>5 rows × 596 columns</p>\n",
              "</div>"
            ],
            "text/plain": [
              "   CoverageField11A  CoverageField11B  ...  GeographicField64_TX  GeographicField64\n",
              "0                13                22  ...                     0                 IL\n",
              "1                 4                 5  ...                     0                 NJ\n",
              "2                 3                 3  ...                     0                 NJ\n",
              "3                 5                 9  ...                     0                 TX\n",
              "4                12                21  ...                     0                 CA\n",
              "\n",
              "[5 rows x 596 columns]"
            ]
          },
          "metadata": {},
          "execution_count": 14
        }
      ]
    },
    {
      "cell_type": "code",
      "metadata": {
        "colab": {
          "base_uri": "https://localhost:8080/"
        },
        "id": "W7Vt87HIExDj",
        "outputId": "2c994f6f-ba8d-4663-a1ae-7b785c7de69e"
      },
      "source": [
        "test_data.columns"
      ],
      "execution_count": null,
      "outputs": [
        {
          "output_type": "execute_result",
          "data": {
            "text/plain": [
              "Index(['CoverageField11A', 'CoverageField11B', 'CoverageField1A',\n",
              "       'CoverageField1B', 'CoverageField2A', 'CoverageField2B',\n",
              "       'CoverageField3A', 'CoverageField3B', 'CoverageField4A',\n",
              "       'CoverageField4B',\n",
              "       ...\n",
              "       'PropertyField38_N', 'PropertyField38_Y', 'GeographicField63_ ',\n",
              "       'GeographicField63_N', 'GeographicField63_Y', 'GeographicField64_CA',\n",
              "       'GeographicField64_IL', 'GeographicField64_NJ', 'GeographicField64_TX',\n",
              "       'GeographicField64'],\n",
              "      dtype='object', length=596)"
            ]
          },
          "metadata": {},
          "execution_count": 15
        }
      ]
    },
    {
      "cell_type": "code",
      "metadata": {
        "colab": {
          "base_uri": "https://localhost:8080/"
        },
        "id": "04uHXnRnEyI6",
        "outputId": "6e278858-a9d9-48b5-c6eb-ab66c4b220f6"
      },
      "source": [
        "test_data.isnull().sum()"
      ],
      "execution_count": null,
      "outputs": [
        {
          "output_type": "execute_result",
          "data": {
            "text/plain": [
              "CoverageField11A        0\n",
              "CoverageField11B        0\n",
              "CoverageField1A         0\n",
              "CoverageField1B         0\n",
              "CoverageField2A         0\n",
              "                       ..\n",
              "GeographicField64_CA    0\n",
              "GeographicField64_IL    0\n",
              "GeographicField64_NJ    0\n",
              "GeographicField64_TX    0\n",
              "GeographicField64       0\n",
              "Length: 596, dtype: int64"
            ]
          },
          "metadata": {},
          "execution_count": 16
        }
      ]
    },
    {
      "cell_type": "code",
      "metadata": {
        "id": "LQMbtRdsEz1W"
      },
      "source": [
        "#Drop categorical features without encoding\n",
        "categoricalFeatures = ['GeographicField64_CA',\n",
        "'GeographicField64_IL', 'GeographicField64_NJ',\n",
        "'GeographicField64_TX']\n",
        "subData = test_data.drop(columns = categoricalFeatures)\n",
        "\n",
        "#Do one-hot encoding\n",
        "dV = pd.get_dummies(test_data['GeographicField64'],\n",
        "prefix= 'GeographicField64')\n",
        "dV\n",
        "\n",
        "#Dataframe Conversion\n",
        "test_data = pd.concat([subData, dV], axis=1)\n",
        "test_data = test_data.drop(columns='GeographicField64')\n",
        "\n",
        "X_train = train_data.iloc[:, :-1].copy()\n",
        "X_test = test_data.copy()\n",
        "Y_train = train_data.iloc[:, -1].copy()"
      ],
      "execution_count": null,
      "outputs": []
    },
    {
      "cell_type": "markdown",
      "metadata": {
        "id": "cOhEZi-w_XwH"
      },
      "source": [
        "#**Models**"
      ]
    },
    {
      "cell_type": "markdown",
      "metadata": {
        "id": "6O12xHUhItw7"
      },
      "source": [
        "##Decision Tree Classifier"
      ]
    },
    {
      "cell_type": "code",
      "metadata": {
        "colab": {
          "base_uri": "https://localhost:8080/"
        },
        "id": "I2n81AQ-BGEH",
        "outputId": "dd04beb2-8f08-4041-f1de-af03e3ac4903"
      },
      "source": [
        "#Create Decision Tree\n",
        "clf = DecisionTreeClassifier()\n",
        "clf.fit(X_train, Y_train)\n",
        "\n",
        "#Check accuracy on training set\n",
        "clf_pred_train = clf.predict(X_train)\n",
        "print('TRAIN ACCURACY: ', accuracy_score(Y_train, clf_pred_train),'\\n')\n",
        "#Check accuracy on test set\n",
        "clf_pred = clf.predict(X_test)\n",
        "print('Confusion Matrix: \\n', confusion_matrix(Y_train, clf_pred_train),'\\n')\n",
        "print('Classification Report: \\n', classification_report(Y_train, clf_pred_train))"
      ],
      "execution_count": null,
      "outputs": [
        {
          "output_type": "stream",
          "name": "stdout",
          "text": [
            "TRAIN ACCURACY:  1.0 \n",
            "\n",
            "Confusion Matrix: \n",
            " [[52738     0]\n",
            " [    0 26369]] \n",
            "\n",
            "Classification Report: \n",
            "               precision    recall  f1-score   support\n",
            "\n",
            "           0       1.00      1.00      1.00     52738\n",
            "           1       1.00      1.00      1.00     26369\n",
            "\n",
            "    accuracy                           1.00     79107\n",
            "   macro avg       1.00      1.00      1.00     79107\n",
            "weighted avg       1.00      1.00      1.00     79107\n",
            "\n"
          ]
        }
      ]
    },
    {
      "cell_type": "markdown",
      "metadata": {
        "id": "EJOWNuGBMfP4"
      },
      "source": [
        "###Hyperparameter Tuning for Decision Tree Classifier"
      ]
    },
    {
      "cell_type": "code",
      "metadata": {
        "colab": {
          "base_uri": "https://localhost:8080/"
        },
        "id": "8l8W5VAZMfDd",
        "outputId": "de542cd7-d2c0-46c2-e441-dc304dcc0628"
      },
      "source": [
        "#Hyperparameter tuning done for decision tree classifier\n",
        "parameters={'min_samples_split' : range(10,100,10),'max_depth': range(1,20,2)}\n",
        "clf_random = RandomizedSearchCV(clf,parameters,n_iter=15)\n",
        "clf_random.fit(X_train, Y_train)\n",
        "grid_parm=clf_random.best_params_\n",
        "print(grid_parm)\n",
        "\n",
        "#Using the parameters obtained from HyperParameterTuning in the DecisionTreeClassifier \n",
        "clf = DecisionTreeClassifier(**grid_parm)\n",
        "clf.fit(X_train,Y_train)\n",
        "clf_predict = clf.predict(X_test)\n",
        "\n",
        "#Obtain accuracy ,confusion matrix,classification report and AUC values for the result above.\n",
        "print(\"accuracy Score (train) after hypertuning for Decision Tree:{0:6f}\".format(clf.score(X_train,Y_train)))\n",
        "\n",
        "#get cross-validation report\n",
        "clf_cv_score = cross_val_score(clf, X_train, Y_train, cv=10, scoring=\"roc_auc\")\n",
        "print(\"=== All AUC Scores ===\")\n",
        "print(clf_cv_score)\n",
        "print('\\n')\n",
        "print(\"=== Mean AUC Score ===\")\n",
        "print(\"Mean AUC Score - Decision Tree: \",clf_cv_score.mean())"
      ],
      "execution_count": null,
      "outputs": [
        {
          "output_type": "stream",
          "name": "stdout",
          "text": [
            "{'min_samples_split': 90, 'max_depth': 1}\n",
            "accuracy Score (train) after hypertuning for Decision Tree:0.743158\n",
            "=== All AUC Scores ===\n",
            "[0.74554418 0.74810391 0.74611301 0.75739477 0.77474403 0.81636329\n",
            " 0.81788017 0.81190301 0.81775314 0.81813279]\n",
            "\n",
            "\n",
            "=== Mean AUC Score ===\n",
            "Mean AUC Score - Decision Tree:  0.7853932292523318\n"
          ]
        }
      ]
    },
    {
      "cell_type": "code",
      "metadata": {
        "colab": {
          "base_uri": "https://localhost:8080/"
        },
        "id": "hMIvG3wuYIhc",
        "outputId": "f7378cb1-bf01-41a9-de46-fd10b8dabe68"
      },
      "source": [
        "#Get Prediction Probability for the predicted class as a dataframe\n",
        "clf_Probability = pd.DataFrame(clf.predict_proba(X_test))\n",
        "clf_Probability.head()"
      ],
      "execution_count": null,
      "outputs": [
        {
          "output_type": "execute_result",
          "data": {
            "text/html": [
              "<div>\n",
              "<style scoped>\n",
              "    .dataframe tbody tr th:only-of-type {\n",
              "        vertical-align: middle;\n",
              "    }\n",
              "\n",
              "    .dataframe tbody tr th {\n",
              "        vertical-align: top;\n",
              "    }\n",
              "\n",
              "    .dataframe thead th {\n",
              "        text-align: right;\n",
              "    }\n",
              "</style>\n",
              "<table border=\"1\" class=\"dataframe\">\n",
              "  <thead>\n",
              "    <tr style=\"text-align: right;\">\n",
              "      <th></th>\n",
              "      <th>0</th>\n",
              "      <th>1</th>\n",
              "    </tr>\n",
              "  </thead>\n",
              "  <tbody>\n",
              "    <tr>\n",
              "      <th>0</th>\n",
              "      <td>0.937493</td>\n",
              "      <td>0.062507</td>\n",
              "    </tr>\n",
              "    <tr>\n",
              "      <th>1</th>\n",
              "      <td>0.937493</td>\n",
              "      <td>0.062507</td>\n",
              "    </tr>\n",
              "    <tr>\n",
              "      <th>2</th>\n",
              "      <td>0.937493</td>\n",
              "      <td>0.062507</td>\n",
              "    </tr>\n",
              "    <tr>\n",
              "      <th>3</th>\n",
              "      <td>0.937493</td>\n",
              "      <td>0.062507</td>\n",
              "    </tr>\n",
              "    <tr>\n",
              "      <th>4</th>\n",
              "      <td>0.937493</td>\n",
              "      <td>0.062507</td>\n",
              "    </tr>\n",
              "  </tbody>\n",
              "</table>\n",
              "</div>"
            ],
            "text/plain": [
              "          0         1\n",
              "0  0.937493  0.062507\n",
              "1  0.937493  0.062507\n",
              "2  0.937493  0.062507\n",
              "3  0.937493  0.062507\n",
              "4  0.937493  0.062507"
            ]
          },
          "metadata": {},
          "execution_count": 29
        }
      ]
    },
    {
      "cell_type": "markdown",
      "metadata": {
        "id": "PDBiTH-LhTny"
      },
      "source": [
        "##Random Forest Classifier"
      ]
    },
    {
      "cell_type": "code",
      "metadata": {
        "colab": {
          "base_uri": "https://localhost:8080/"
        },
        "id": "CL3TtET5hY_z",
        "outputId": "b258d8ce-af36-4b92-8fa5-863ce95c0ebe"
      },
      "source": [
        "#Create Random Forest\n",
        "rfc = RandomForestClassifier()\n",
        "rfc.fit(X_train, Y_train)\n",
        "\n",
        "#Check accuracy on training set\n",
        "rfc_pred_train = rfc.predict(X_train)\n",
        "print('TRAIN ACCURACY: ', accuracy_score(Y_train, rfc_pred_train),'\\n')\n",
        "#Check accuracy on test set\n",
        "rfc_pred = rfc.predict(X_test)\n",
        "print('Confusion Matrix: \\n', confusion_matrix(Y_train, rfc_pred_train),'\\n')\n",
        "print('Classification Report: \\n', classification_report(Y_train, rfc_pred_train))"
      ],
      "execution_count": null,
      "outputs": [
        {
          "output_type": "stream",
          "name": "stdout",
          "text": [
            "TRAIN ACCURACY:  1.0 \n",
            "\n",
            "Confusion Matrix: \n",
            " [[52738     0]\n",
            " [    0 26369]] \n",
            "\n",
            "Classification Report: \n",
            "               precision    recall  f1-score   support\n",
            "\n",
            "           0       1.00      1.00      1.00     52738\n",
            "           1       1.00      1.00      1.00     26369\n",
            "\n",
            "    accuracy                           1.00     79107\n",
            "   macro avg       1.00      1.00      1.00     79107\n",
            "weighted avg       1.00      1.00      1.00     79107\n",
            "\n"
          ]
        }
      ]
    },
    {
      "cell_type": "markdown",
      "metadata": {
        "id": "M8Wqxw74jis_"
      },
      "source": [
        "###Hyperparameter Tuning for Random Forest Classifier"
      ]
    },
    {
      "cell_type": "code",
      "metadata": {
        "colab": {
          "base_uri": "https://localhost:8080/"
        },
        "id": "CP-kQ2Rfjfe1",
        "outputId": "b23363c1-7b2a-40ed-f710-1b5a31f939bf"
      },
      "source": [
        "#Hyperparameter tuning done for random forest classifier\n",
        "parameters={'min_samples_split' : range(10,100,10),'max_depth': range(1,20,2)}\n",
        "rfc_random = RandomizedSearchCV(rfc,parameters,n_iter=15)\n",
        "rfc_random.fit(X_train, Y_train)\n",
        "grid_parm_rfc=rfc_random.best_params_\n",
        "print(grid_parm_rfc)\n",
        "\n",
        "#Using the parameters obtained from HyperParameterTuning in the RandomForestClassifier \n",
        "rfc = RandomForestClassifier(**grid_parm_rfc)\n",
        "rfc.fit(X_train,Y_train)\n",
        "rfc_predict = rfc.predict(X_test)\n",
        "\n",
        "#Obtain accuracy ,confusion matrix,classification report and AUC values for the result above.\n",
        "print(\"accuracy Score (train) after hypertuning for Random Forest:{0:6f}\".format(rfc.score(X_train,Y_train)))\n",
        "\n",
        "#get cross-validation report\n",
        "rfc_cv_score = cross_val_score(rfc, X_train, Y_train, cv=10, scoring=\"roc_auc\")\n",
        "print(\"=== All AUC Scores ===\")\n",
        "print(rfc_cv_score)\n",
        "print('\\n')\n",
        "print(\"=== Mean AUC Score ===\")\n",
        "print(\"Mean AUC Score - Random Forest: \",rfc_cv_score.mean())"
      ],
      "execution_count": null,
      "outputs": [
        {
          "output_type": "stream",
          "name": "stdout",
          "text": [
            "{'min_samples_split': 50, 'max_depth': 9}\n",
            "accuracy Score (train) after hypertuning for Random Forest:0.906860\n",
            "=== All AUC Scores ===\n",
            "[0.90972824 0.92592542 0.92782245 0.9275544  0.94476111 0.99822765\n",
            " 0.99836664 0.99851413 0.99832376 0.99731267]\n",
            "\n",
            "\n",
            "=== Mean AUC Score ===\n",
            "Mean AUC Score - Random Forest:  0.9626536462224508\n"
          ]
        }
      ]
    },
    {
      "cell_type": "code",
      "metadata": {
        "colab": {
          "base_uri": "https://localhost:8080/"
        },
        "id": "aPL243shdfgE",
        "outputId": "1a3e7d6e-2e63-465e-c4d1-716f39eff7ed"
      },
      "source": [
        "#Get Prediction Probability for the predicted class as a dataframe\n",
        "rfc_Probability = pd.DataFrame(rfc.predict_proba(X_test))\n",
        "rfc_Probability.head()"
      ],
      "execution_count": null,
      "outputs": [
        {
          "output_type": "execute_result",
          "data": {
            "text/html": [
              "<div>\n",
              "<style scoped>\n",
              "    .dataframe tbody tr th:only-of-type {\n",
              "        vertical-align: middle;\n",
              "    }\n",
              "\n",
              "    .dataframe tbody tr th {\n",
              "        vertical-align: top;\n",
              "    }\n",
              "\n",
              "    .dataframe thead th {\n",
              "        text-align: right;\n",
              "    }\n",
              "</style>\n",
              "<table border=\"1\" class=\"dataframe\">\n",
              "  <thead>\n",
              "    <tr style=\"text-align: right;\">\n",
              "      <th></th>\n",
              "      <th>0</th>\n",
              "      <th>1</th>\n",
              "    </tr>\n",
              "  </thead>\n",
              "  <tbody>\n",
              "    <tr>\n",
              "      <th>0</th>\n",
              "      <td>0.927178</td>\n",
              "      <td>0.072822</td>\n",
              "    </tr>\n",
              "    <tr>\n",
              "      <th>1</th>\n",
              "      <td>0.799776</td>\n",
              "      <td>0.200224</td>\n",
              "    </tr>\n",
              "    <tr>\n",
              "      <th>2</th>\n",
              "      <td>0.840800</td>\n",
              "      <td>0.159200</td>\n",
              "    </tr>\n",
              "    <tr>\n",
              "      <th>3</th>\n",
              "      <td>0.963565</td>\n",
              "      <td>0.036435</td>\n",
              "    </tr>\n",
              "    <tr>\n",
              "      <th>4</th>\n",
              "      <td>0.802541</td>\n",
              "      <td>0.197459</td>\n",
              "    </tr>\n",
              "  </tbody>\n",
              "</table>\n",
              "</div>"
            ],
            "text/plain": [
              "          0         1\n",
              "0  0.927178  0.072822\n",
              "1  0.799776  0.200224\n",
              "2  0.840800  0.159200\n",
              "3  0.963565  0.036435\n",
              "4  0.802541  0.197459"
            ]
          },
          "metadata": {},
          "execution_count": 32
        }
      ]
    },
    {
      "cell_type": "markdown",
      "metadata": {
        "id": "SJlsfFGc2ldV"
      },
      "source": [
        "##Support Vector Machines Classifier"
      ]
    },
    {
      "cell_type": "code",
      "metadata": {
        "colab": {
          "base_uri": "https://localhost:8080/"
        },
        "id": "MfwrCHNH26RA",
        "outputId": "e0748e3b-0aaf-4297-8aac-dab56f10e126"
      },
      "source": [
        "svc = svm.LinearSVC()\n",
        "svc.fit(X_train, Y_train)\n",
        "svc_pred_train=svc.predict(X_train)\n",
        "print('TRAIN ACCURACY: ', accuracy_score(Y_train, svc_pred_train),'\\n')\n",
        "#Check accuracy on test set\n",
        "svc_pred = svc.predict(X_test)\n",
        "print('Confusion Matrix: \\n', confusion_matrix(Y_train, svc_pred_train),'\\n')\n",
        "print('Classification Report: \\n', classification_report(Y_train, svc_pred_train))"
      ],
      "execution_count": null,
      "outputs": [
        {
          "output_type": "stream",
          "name": "stdout",
          "text": [
            "TRAIN ACCURACY:  0.6681456761095731 \n",
            "\n",
            "Confusion Matrix: \n",
            " [[52602   136]\n",
            " [26116   253]] \n",
            "\n",
            "Classification Report: \n",
            "               precision    recall  f1-score   support\n",
            "\n",
            "           0       0.67      1.00      0.80     52738\n",
            "           1       0.65      0.01      0.02     26369\n",
            "\n",
            "    accuracy                           0.67     79107\n",
            "   macro avg       0.66      0.50      0.41     79107\n",
            "weighted avg       0.66      0.67      0.54     79107\n",
            "\n"
          ]
        }
      ]
    },
    {
      "cell_type": "markdown",
      "metadata": {
        "id": "A5qztzKUzCHM"
      },
      "source": [
        "###Hyperparameter Tuning for Support Vector Machines"
      ]
    },
    {
      "cell_type": "code",
      "metadata": {
        "colab": {
          "base_uri": "https://localhost:8080/"
        },
        "id": "UFnkSgyGfwgR",
        "outputId": "692d62d4-c86a-4fdf-86fa-20b8a813d126"
      },
      "source": [
        "#Hyperparameter tuning done for support vector machines classifier\n",
        "parameters={'C' : [0.8, 5, 20]}\n",
        "svc_random = RandomizedSearchCV(svc,parameters,n_iter=15)\n",
        "svc_random.fit(X_train, Y_train)\n",
        "grid_parm_svc=svc_random.best_params_\n",
        "print(grid_parm_svc)\n",
        "\n",
        "#Using the parameters obtained from HyperParameterTuning in the SupportVectorMachines \n",
        "svc = svm.LinearSVC(**grid_parm_svc)\n",
        "svc.fit(X_train,Y_train)\n",
        "svc_predict = svc.predict(X_test)\n",
        "\n",
        "#Obtain accuracy ,confusion matrix,classification report and AUC values for the result above.\n",
        "print(\"accuracy Score (train) after hypertuning for SVM:{0:6f}\".format(svc.score(X_train,Y_train)))\n",
        "\n",
        "#get cross-validation report\n",
        "svc_cv_score = cross_val_score(svc, X_train, Y_train, cv=10, scoring=\"roc_auc\")\n",
        "print(\"=== All AUC Scores ===\")\n",
        "print(svc_cv_score)\n",
        "print('\\n')\n",
        "print(\"=== Mean AUC Score ===\")\n",
        "print(\"Mean AUC Score - SVM: \",svc_cv_score.mean())"
      ],
      "execution_count": null,
      "outputs": [
        {
          "metadata": {
            "tags": null
          },
          "name": "stdout",
          "output_type": "stream",
          "text": [
            "{'C': 0.8}\n"
          ]
        }
      ]
    },
    {
      "cell_type": "code",
      "metadata": {
        "id": "mkx0fwFT91iS",
        "colab": {
          "base_uri": "https://localhost:8080/"
        },
        "outputId": "7f7514d6-6487-4570-964e-af2b63a78147"
      },
      "source": [
        "svcC=CalibratedClassifierCV(base_estimator=svc, cv=4)\n",
        "svcC.fit(X_train, Y_train)"
      ],
      "execution_count": null,
      "outputs": [
        {
          "output_type": "execute_result",
          "data": {
            "text/plain": [
              "CalibratedClassifierCV(base_estimator=LinearSVC(C=0.8, class_weight=None,\n",
              "                                                dual=True, fit_intercept=True,\n",
              "                                                intercept_scaling=1,\n",
              "                                                loss='squared_hinge',\n",
              "                                                max_iter=1000,\n",
              "                                                multi_class='ovr', penalty='l2',\n",
              "                                                random_state=None, tol=0.0001,\n",
              "                                                verbose=0),\n",
              "                       cv=4, method='sigmoid')"
            ]
          },
          "metadata": {},
          "execution_count": 39
        }
      ]
    },
    {
      "cell_type": "code",
      "metadata": {
        "id": "sd1SyQzhjpRV",
        "colab": {
          "base_uri": "https://localhost:8080/",
          "height": 204
        },
        "outputId": "d86a9a85-5c4e-4e59-d2ea-116f7f1e5680"
      },
      "source": [
        "#Get Prediction Probability for the predicted class as a dataframe\n",
        "svc_Probability = pd.DataFrame(svcC.predict_proba(X_test))\n",
        "svc_Probability.head()"
      ],
      "execution_count": null,
      "outputs": [
        {
          "output_type": "execute_result",
          "data": {
            "text/html": [
              "<div>\n",
              "<style scoped>\n",
              "    .dataframe tbody tr th:only-of-type {\n",
              "        vertical-align: middle;\n",
              "    }\n",
              "\n",
              "    .dataframe tbody tr th {\n",
              "        vertical-align: top;\n",
              "    }\n",
              "\n",
              "    .dataframe thead th {\n",
              "        text-align: right;\n",
              "    }\n",
              "</style>\n",
              "<table border=\"1\" class=\"dataframe\">\n",
              "  <thead>\n",
              "    <tr style=\"text-align: right;\">\n",
              "      <th></th>\n",
              "      <th>0</th>\n",
              "      <th>1</th>\n",
              "    </tr>\n",
              "  </thead>\n",
              "  <tbody>\n",
              "    <tr>\n",
              "      <th>0</th>\n",
              "      <td>0.730740</td>\n",
              "      <td>0.269260</td>\n",
              "    </tr>\n",
              "    <tr>\n",
              "      <th>1</th>\n",
              "      <td>0.666535</td>\n",
              "      <td>0.333465</td>\n",
              "    </tr>\n",
              "    <tr>\n",
              "      <th>2</th>\n",
              "      <td>0.641424</td>\n",
              "      <td>0.358576</td>\n",
              "    </tr>\n",
              "    <tr>\n",
              "      <th>3</th>\n",
              "      <td>0.892686</td>\n",
              "      <td>0.107314</td>\n",
              "    </tr>\n",
              "    <tr>\n",
              "      <th>4</th>\n",
              "      <td>0.746676</td>\n",
              "      <td>0.253324</td>\n",
              "    </tr>\n",
              "  </tbody>\n",
              "</table>\n",
              "</div>"
            ],
            "text/plain": [
              "          0         1\n",
              "0  0.730740  0.269260\n",
              "1  0.666535  0.333465\n",
              "2  0.641424  0.358576\n",
              "3  0.892686  0.107314\n",
              "4  0.746676  0.253324"
            ]
          },
          "metadata": {},
          "execution_count": 40
        }
      ]
    },
    {
      "cell_type": "markdown",
      "metadata": {
        "id": "2Eeif_Lab6hr"
      },
      "source": [
        "##K-Nearest Neighbors Classifier"
      ]
    },
    {
      "cell_type": "code",
      "metadata": {
        "id": "FK4wzknHyhOJ",
        "colab": {
          "base_uri": "https://localhost:8080/"
        },
        "outputId": "37e4c9e6-01f7-4df5-a768-8c4f87162aed"
      },
      "source": [
        "knc = KNeighborsClassifier()\n",
        "knc.fit(X_train, Y_train)\n",
        "knc_pred_train=knc.predict(X_train)\n",
        "print('TRAIN ACCURACY: ', accuracy_score(Y_train, knc_pred_train),'\\n')\n",
        "#Check accuracy on test set\n",
        "knc_pred = knc.predict(X_test)\n",
        "print('Confusion Matrix: \\n', confusion_matrix(Y_train, knc_pred_train),'\\n')\n",
        "print('Classification Report: \\n', classification_report(Y_train, knc_pred_train))"
      ],
      "execution_count": null,
      "outputs": [
        {
          "output_type": "stream",
          "name": "stdout",
          "text": [
            "TRAIN ACCURACY:  0.8244782383354191 \n",
            "\n",
            "Confusion Matrix: \n",
            " [[45142  7596]\n",
            " [ 6289 20080]] \n",
            "\n",
            "Classification Report: \n",
            "               precision    recall  f1-score   support\n",
            "\n",
            "           0       0.88      0.86      0.87     52738\n",
            "           1       0.73      0.76      0.74     26369\n",
            "\n",
            "    accuracy                           0.82     79107\n",
            "   macro avg       0.80      0.81      0.80     79107\n",
            "weighted avg       0.83      0.82      0.83     79107\n",
            "\n"
          ]
        }
      ]
    },
    {
      "cell_type": "markdown",
      "metadata": {
        "id": "hP-6S4Zt-haw"
      },
      "source": [
        "###Hyperparameter Tuning for K_Nearest Neighbor Classifier"
      ]
    },
    {
      "cell_type": "code",
      "metadata": {
        "id": "-fPCn8KozIcL",
        "colab": {
          "base_uri": "https://localhost:8080/"
        },
        "outputId": "7f356a0c-0ff2-4fb7-d88d-5966a7843179"
      },
      "source": [
        "#Hyperparameter tuning done for K_Nearest Neighbor classifier\n",
        "parameters={'n_neighbors' : range(10, 30, 10), 'weights': ['uniform','distance'], 'p' : (2, 4)}\n",
        "knc_random = RandomizedSearchCV(knc,parameters,n_iter=5)\n",
        "knc_random.fit(X_train, Y_train)\n",
        "grid_parm_knc=knc_random.best_params_\n",
        "print(grid_parm_knc)\n",
        "\n",
        "#Using the parameters obtained from HyperParameterTuning in the K_NearestNeighborClassifier \n",
        "knc = KNeighborsClassifier(**grid_parm_knc)\n",
        "knc.fit(X_train,Y_train)\n",
        "knc_predict = knc.predict(X_test)\n",
        "\n",
        "#Obtain accuracy ,confusion matrix,classification report and AUC values for the result above.\n",
        "print(\"accuracy Score (train) after hypertuning for KNN:{0:6f}\".format(knc.score(X_train,Y_train)))\n",
        "\n",
        "#get cross-validation report\n",
        "knc_cv_score = cross_val_score(knc, X_train, Y_train, cv=5, scoring=\"roc_auc\")\n",
        "print(\"=== All AUC Scores ===\")\n",
        "print(knc_cv_score)\n",
        "print('\\n')\n",
        "print(\"=== Mean AUC Score ===\")\n",
        "print(\"Mean AUC Score - KNN: \",knc_cv_score.mean())"
      ],
      "execution_count": null,
      "outputs": [
        {
          "output_type": "stream",
          "name": "stdout",
          "text": [
            "{'weights': 'distance', 'p': 2, 'n_neighbors': 10}\n",
            "accuracy Score (train) after hypertuning for KNN:1.000000\n",
            "=== All AUC Scores ===\n",
            "[0.24584204 0.02108384 0.09581253 0.13537593 0.11861541]\n",
            "\n",
            "\n",
            "=== Mean AUC Score ===\n",
            "Mean AUC Score - KNN:  0.12334594980387434\n"
          ]
        }
      ]
    },
    {
      "cell_type": "code",
      "metadata": {
        "id": "jlDey_QSjsdo",
        "colab": {
          "base_uri": "https://localhost:8080/",
          "height": 204
        },
        "outputId": "ba722089-c6e0-4840-bcaa-25f33974be2a"
      },
      "source": [
        "#Get Prediction Probability for the predicted class as a dataframe\n",
        "knc_Probability = pd.DataFrame(knc.predict_proba(X_test))\n",
        "knc_Probability.head()"
      ],
      "execution_count": null,
      "outputs": [
        {
          "output_type": "execute_result",
          "data": {
            "text/html": [
              "<div>\n",
              "<style scoped>\n",
              "    .dataframe tbody tr th:only-of-type {\n",
              "        vertical-align: middle;\n",
              "    }\n",
              "\n",
              "    .dataframe tbody tr th {\n",
              "        vertical-align: top;\n",
              "    }\n",
              "\n",
              "    .dataframe thead th {\n",
              "        text-align: right;\n",
              "    }\n",
              "</style>\n",
              "<table border=\"1\" class=\"dataframe\">\n",
              "  <thead>\n",
              "    <tr style=\"text-align: right;\">\n",
              "      <th></th>\n",
              "      <th>0</th>\n",
              "      <th>1</th>\n",
              "    </tr>\n",
              "  </thead>\n",
              "  <tbody>\n",
              "    <tr>\n",
              "      <th>0</th>\n",
              "      <td>0.653634</td>\n",
              "      <td>0.346366</td>\n",
              "    </tr>\n",
              "    <tr>\n",
              "      <th>1</th>\n",
              "      <td>0.633317</td>\n",
              "      <td>0.366683</td>\n",
              "    </tr>\n",
              "    <tr>\n",
              "      <th>2</th>\n",
              "      <td>0.376068</td>\n",
              "      <td>0.623932</td>\n",
              "    </tr>\n",
              "    <tr>\n",
              "      <th>3</th>\n",
              "      <td>0.774008</td>\n",
              "      <td>0.225992</td>\n",
              "    </tr>\n",
              "    <tr>\n",
              "      <th>4</th>\n",
              "      <td>0.639203</td>\n",
              "      <td>0.360797</td>\n",
              "    </tr>\n",
              "  </tbody>\n",
              "</table>\n",
              "</div>"
            ],
            "text/plain": [
              "          0         1\n",
              "0  0.653634  0.346366\n",
              "1  0.633317  0.366683\n",
              "2  0.376068  0.623932\n",
              "3  0.774008  0.225992\n",
              "4  0.639203  0.360797"
            ]
          },
          "metadata": {},
          "execution_count": 43
        }
      ]
    },
    {
      "cell_type": "markdown",
      "metadata": {
        "id": "m5Vpmpvkd6ji"
      },
      "source": [
        "##MultiLayer Perceptron Classifier"
      ]
    },
    {
      "cell_type": "code",
      "metadata": {
        "id": "w6c8533L2YdU",
        "colab": {
          "base_uri": "https://localhost:8080/"
        },
        "outputId": "25947672-4fdc-456e-c65f-841f181ee778"
      },
      "source": [
        "mlp = MLPClassifier()\n",
        "mlp.fit(X_train, Y_train)\n",
        "mlp_pred_train=mlp.predict(X_train)\n",
        "print('TRAIN ACCURACY: ', accuracy_score(Y_train, mlp_pred_train),'\\n')\n",
        "#Check accuracy on test set\n",
        "mlp_pred = mlp.predict(X_test)\n",
        "print('Confusion Matrix: \\n', confusion_matrix(Y_train, mlp_pred_train),'\\n')\n",
        "print('Classification Report: \\n', classification_report(Y_train, mlp_pred_train))"
      ],
      "execution_count": null,
      "outputs": [
        {
          "output_type": "stream",
          "name": "stdout",
          "text": [
            "TRAIN ACCURACY:  0.7548004601362711 \n",
            "\n",
            "Confusion Matrix: \n",
            " [[34818 17920]\n",
            " [ 1477 24892]] \n",
            "\n",
            "Classification Report: \n",
            "               precision    recall  f1-score   support\n",
            "\n",
            "           0       0.96      0.66      0.78     52738\n",
            "           1       0.58      0.94      0.72     26369\n",
            "\n",
            "    accuracy                           0.75     79107\n",
            "   macro avg       0.77      0.80      0.75     79107\n",
            "weighted avg       0.83      0.75      0.76     79107\n",
            "\n"
          ]
        }
      ]
    },
    {
      "cell_type": "markdown",
      "metadata": {
        "id": "ls7OLEIL3Rmx"
      },
      "source": [
        "###Hyperparameter Tuning for MultiLayer Perceptron Classifier"
      ]
    },
    {
      "cell_type": "code",
      "metadata": {
        "id": "YJ3SocHq2sbD",
        "colab": {
          "base_uri": "https://localhost:8080/"
        },
        "outputId": "5755012c-d1a3-41ed-bfca-c584dc6ff96e"
      },
      "source": [
        "#Hyperparameter tuning done for MultiLayer Perceptron classifier\n",
        "parameters = {'hidden_layer_sizes':[(10,5,3), (20,7,3)], 'activation':['tanh', 'relu'], \n",
        "              'learning_rate':['constant', 'adaptive'], 'max_iter' :[100, 150]}\n",
        "mlp_random = RandomizedSearchCV(mlp,parameters,n_iter=8)\n",
        "mlp_random.fit(X_train, Y_train)\n",
        "grid_parm_mlp=mlp_random.best_params_\n",
        "print(grid_parm_mlp)\n",
        "\n",
        "#Using the parameters obtained from HyperParameterTuning in the MLPClassifier \n",
        "mlp = MLPClassifier(**grid_parm_mlp)\n",
        "mlp.fit(X_train,Y_train)\n",
        "mlp_predict = mlp.predict(X_test)\n",
        "\n",
        "#Obtain accuracy ,confusion matrix,classification report and AUC values for the result above.\n",
        "print(\"accuracy Score (train) after hypertuning for MLP:{0:6f}\".format(mlp.score(X_train,Y_train)))\n",
        "\n",
        "#get cross-validation report\n",
        "mlp_cv_score = cross_val_score(mlp, X_train, Y_train, cv=5, scoring=\"roc_auc\")\n",
        "print(\"=== All AUC Scores ===\")\n",
        "print(mlp_cv_score)\n",
        "print('\\n')\n",
        "print(\"=== Mean AUC Score ===\")\n",
        "print(\"Mean AUC Score - MLP: \",mlp_cv_score.mean())"
      ],
      "execution_count": null,
      "outputs": [
        {
          "output_type": "stream",
          "name": "stdout",
          "text": [
            "{'max_iter': 100, 'learning_rate': 'constant', 'hidden_layer_sizes': (20, 7, 3), 'activation': 'relu'}\n",
            "accuracy Score (train) after hypertuning for MLP:0.666667\n",
            "=== All AUC Scores ===\n",
            "[0.49361614 0.55280899 0.50075858 0.5        0.5       ]\n",
            "\n",
            "\n",
            "=== Mean AUC Score ===\n",
            "Mean AUC Score - MLP:  0.5094367421520516\n"
          ]
        }
      ]
    },
    {
      "cell_type": "code",
      "metadata": {
        "id": "WI0MY0vIjylL",
        "colab": {
          "base_uri": "https://localhost:8080/",
          "height": 204
        },
        "outputId": "d072bca4-09b0-472d-9e1b-96683373d854"
      },
      "source": [
        "#Get Prediction Probability for the predicted class as a dataframe\n",
        "mlp_Probability = pd.DataFrame(mlp.predict_proba(X_test))\n",
        "mlp_Probability.head()"
      ],
      "execution_count": null,
      "outputs": [
        {
          "output_type": "execute_result",
          "data": {
            "text/html": [
              "<div>\n",
              "<style scoped>\n",
              "    .dataframe tbody tr th:only-of-type {\n",
              "        vertical-align: middle;\n",
              "    }\n",
              "\n",
              "    .dataframe tbody tr th {\n",
              "        vertical-align: top;\n",
              "    }\n",
              "\n",
              "    .dataframe thead th {\n",
              "        text-align: right;\n",
              "    }\n",
              "</style>\n",
              "<table border=\"1\" class=\"dataframe\">\n",
              "  <thead>\n",
              "    <tr style=\"text-align: right;\">\n",
              "      <th></th>\n",
              "      <th>0</th>\n",
              "      <th>1</th>\n",
              "    </tr>\n",
              "  </thead>\n",
              "  <tbody>\n",
              "    <tr>\n",
              "      <th>0</th>\n",
              "      <td>0.665049</td>\n",
              "      <td>0.334951</td>\n",
              "    </tr>\n",
              "    <tr>\n",
              "      <th>1</th>\n",
              "      <td>0.665049</td>\n",
              "      <td>0.334951</td>\n",
              "    </tr>\n",
              "    <tr>\n",
              "      <th>2</th>\n",
              "      <td>0.665049</td>\n",
              "      <td>0.334951</td>\n",
              "    </tr>\n",
              "    <tr>\n",
              "      <th>3</th>\n",
              "      <td>0.665049</td>\n",
              "      <td>0.334951</td>\n",
              "    </tr>\n",
              "    <tr>\n",
              "      <th>4</th>\n",
              "      <td>0.665049</td>\n",
              "      <td>0.334951</td>\n",
              "    </tr>\n",
              "  </tbody>\n",
              "</table>\n",
              "</div>"
            ],
            "text/plain": [
              "          0         1\n",
              "0  0.665049  0.334951\n",
              "1  0.665049  0.334951\n",
              "2  0.665049  0.334951\n",
              "3  0.665049  0.334951\n",
              "4  0.665049  0.334951"
            ]
          },
          "metadata": {},
          "execution_count": 46
        }
      ]
    },
    {
      "cell_type": "markdown",
      "metadata": {
        "id": "ml4Ms--jJfAd"
      },
      "source": [
        "#**SMOTE**"
      ]
    },
    {
      "cell_type": "code",
      "metadata": {
        "colab": {
          "base_uri": "https://localhost:8080/"
        },
        "id": "griLuC8jE5QM",
        "outputId": "14ff0372-5994-44ce-e941-9e0de55ec680"
      },
      "source": [
        "print(\"___________________________________________________________________\\nSMOTE\\n\")\n",
        "print('Original dataset shape %s' % Counter(Y_train))\n",
        "sm = SMOTE(sampling_strategy='float', ratio=0.5)\n",
        "X_train, Y_train = sm.fit_resample(X_train, Y_train)\n",
        "print('Resampled dataset shape %s' % Counter(Y_train))"
      ],
      "execution_count": null,
      "outputs": [
        {
          "output_type": "stream",
          "name": "stdout",
          "text": [
            "___________________________________________________________________\n",
            "SMOTE\n",
            "\n",
            "Original dataset shape Counter({0: 52738, 1: 12262})\n",
            "Resampled dataset shape Counter({0: 52738, 1: 26369})\n"
          ]
        }
      ]
    },
    {
      "cell_type": "markdown",
      "metadata": {
        "id": "xgG7a8gXessp"
      },
      "source": [
        "# **ENSEMBLE METHODS STACKING**"
      ]
    },
    {
      "cell_type": "code",
      "metadata": {
        "colab": {
          "base_uri": "https://localhost:8080/"
        },
        "id": "ayOZqC1QezPK",
        "outputId": "c3e56f77-614f-40d3-c0c7-4f524c9139ba"
      },
      "source": [
        "print(\"___________________________________________________________________________________________\\nEnsemble Methods Predictions using GradientBoosting, RandomForest and Decision Tree Classifier\\n\")\n",
        "\n",
        "#models = [ svm.LinearSVC(), RandomForestClassifier(), DecisionTreeClassifier(), KNeighborsClassifier(), MLPClassifier() ]\n",
        "models = [ DecisionTreeClassifier(min_samples_split= 70, max_depth= 9)  , \n",
        "          RandomForestClassifier(min_samples_split= 90, max_depth= 9) ,\n",
        "          MLPClassifier(max_iter= 100, learning_rate= 'constant', \n",
        "                        hidden_layer_sizes= (20, 7, 3), activation= 'tanh') ,\n",
        "          KNeighborsClassifier(n_neighbors= 3) ,\n",
        "           svm.LinearSVC(max_iter= 700) ]\n",
        "      \n",
        "S_Train, S_Test = stacking(models,                   \n",
        "                           X_train, Y_train, X_test,   \n",
        "                           regression=False, \n",
        "     \n",
        "                           mode='oof_pred_bag', \n",
        "       \n",
        "                           needs_proba=False,\n",
        "         \n",
        "                           save_dir=None, \n",
        "            \n",
        "                           metric=accuracy_score, \n",
        "    \n",
        "                           n_folds=4, \n",
        "                 \n",
        "                           stratified=True,\n",
        "            \n",
        "                           shuffle=True,  \n",
        "            \n",
        "                           random_state=0,    \n",
        "         \n",
        "                           verbose=2)"
      ],
      "execution_count": null,
      "outputs": [
        {
          "output_type": "stream",
          "name": "stdout",
          "text": [
            "___________________________________________________________________________________________\n",
            "Ensemble Methods Predictions using GradientBoosting, RandomForest and Decision Tree Classifier\n",
            "\n",
            "task:         [classification]\n",
            "n_classes:    [2]\n",
            "metric:       [accuracy_score]\n",
            "mode:         [oof_pred_bag]\n",
            "n_models:     [5]\n",
            "\n",
            "model  0:     [DecisionTreeClassifier]\n",
            "    fold  0:  [0.92106993]\n",
            "    fold  1:  [0.92015978]\n",
            "    fold  2:  [0.92147444]\n",
            "    fold  3:  [0.91980178]\n",
            "    ----\n",
            "    MEAN:     [0.92062648] + [0.00067335]\n",
            "    FULL:     [0.92062649]\n",
            "\n",
            "model  1:     [RandomForestClassifier]\n",
            "    fold  0:  [0.90964251]\n",
            "    fold  1:  [0.90423219]\n",
            "    fold  2:  [0.90195682]\n",
            "    fold  3:  [0.90508697]\n",
            "    ----\n",
            "    MEAN:     [0.90522962] + [0.00279285]\n",
            "    FULL:     [0.90522963]\n",
            "\n",
            "model  2:     [MLPClassifier]\n",
            "    fold  0:  [0.66668352]\n",
            "    fold  1:  [0.66668352]\n",
            "    fold  2:  [0.66663296]\n",
            "    fold  3:  [0.66666667]\n",
            "    ----\n",
            "    MEAN:     [0.66666667] + [0.00002064]\n",
            "    FULL:     [0.66666667]\n",
            "\n",
            "model  3:     [KNeighborsClassifier]\n",
            "    fold  0:  [0.71148304]\n",
            "    fold  1:  [0.70647722]\n",
            "    fold  2:  [0.71588209]\n",
            "    fold  3:  [0.70838390]\n",
            "    ----\n",
            "    MEAN:     [0.71055656] + [0.00355602]\n",
            "    FULL:     [0.71055659]\n",
            "\n",
            "model  4:     [LinearSVC]\n",
            "    fold  0:  [0.48890125]\n",
            "    fold  1:  [0.64130050]\n",
            "    fold  2:  [0.38640845]\n",
            "    fold  3:  [0.66560477]\n",
            "    ----\n",
            "    MEAN:     [0.54555374] + [0.11414510]\n",
            "    FULL:     [0.54555223]\n",
            "\n"
          ]
        }
      ]
    },
    {
      "cell_type": "markdown",
      "metadata": {
        "id": "3I8Thg64Tkoy"
      },
      "source": [
        "###**Hyperparameter Tuning for Ensemble Methods Stacking**"
      ]
    },
    {
      "cell_type": "code",
      "metadata": {
        "id": "jnKMEAWHC0LW"
      },
      "source": [
        " \n",
        "ems = GradientBoostingClassifier()\n",
        "ems = ems.fit(S_Train, Y_train)\n",
        "y_pred = ems.predict(S_Test)"
      ],
      "execution_count": null,
      "outputs": []
    },
    {
      "cell_type": "code",
      "metadata": {
        "id": "f3Ijv-khDTfd",
        "colab": {
          "base_uri": "https://localhost:8080/"
        },
        "outputId": "bd8bb66b-cb07-4926-bb5c-0f2f7261fa8d"
      },
      "source": [
        "#Hyperparameter tuning done for stacked model\n",
        "parameters = {'n_estimators': [100, 200, 350], 'loss': ['deviance', 'exponential'], \n",
        "              'criterion': ['friedman_mse', 'squared_error']}\n",
        "ems_random = RandomizedSearchCV(ems,parameters,n_iter=5)\n",
        "ems_random.fit(S_Train, Y_train)\n",
        "grid_parm_ems=ems_random.best_params_\n",
        "print(grid_parm_ems)\n",
        "\n",
        "#Using the parameters obtained from HyperParameterTuning in the stacked model \n",
        "ems = GradientBoostingClassifier(**grid_parm_ems)\n",
        "ems.fit(S_Train,Y_train)\n",
        "ems_predict = ems.predict(S_Test)\n",
        "\n",
        "#Obtain accuracy ,confusion matrix,classification report and AUC values for the result above.\n",
        "print(\"accuracy Score (train) after hypertuning for Stacked Model:{0:6f}\".format(ems.score(S_Train,Y_train)))\n",
        "\n",
        "#get cross-validation report\n",
        "ems_cv_score = cross_val_score(ems, S_Train, Y_train, cv=7, scoring=\"roc_auc\")\n",
        "print(\"=== All AUC Scores ===\")\n",
        "print(ems_cv_score)\n",
        "print('\\n')\n",
        "print(\"=== Mean AUC Score ===\")\n",
        "print(\"Mean AUC Score - Stacked Model: \",ems_cv_score.mean())"
      ],
      "execution_count": null,
      "outputs": [
        {
          "output_type": "stream",
          "name": "stdout",
          "text": [
            "{'n_estimators': 350, 'loss': 'exponential', 'criterion': 'friedman_mse'}\n",
            "accuracy Score (train) after hypertuning for Stacked Model:0.926644\n",
            "=== All AUC Scores ===\n",
            "[0.90202689 0.88766902 0.88175228 0.96378    0.9951053  0.99388178\n",
            " 0.9945264 ]\n",
            "\n",
            "\n",
            "=== Mean AUC Score ===\n",
            "Mean AUC Score - Stacked Model:  0.9455345256584576\n"
          ]
        }
      ]
    },
    {
      "cell_type": "code",
      "metadata": {
        "colab": {
          "base_uri": "https://localhost:8080/",
          "height": 204
        },
        "id": "puKhQfPY0onW",
        "outputId": "1b0f46f2-9f76-4a58-c10c-94c2fa7dc27b"
      },
      "source": [
        "#Get Prediction Probability for the predicted class as a dataframe\n",
        "stack_Probability = pd.DataFrame(ems.predict_proba(S_Test))\n",
        "\n",
        "stack_Probability.head()"
      ],
      "execution_count": null,
      "outputs": [
        {
          "output_type": "execute_result",
          "data": {
            "text/html": [
              "<div>\n",
              "<style scoped>\n",
              "    .dataframe tbody tr th:only-of-type {\n",
              "        vertical-align: middle;\n",
              "    }\n",
              "\n",
              "    .dataframe tbody tr th {\n",
              "        vertical-align: top;\n",
              "    }\n",
              "\n",
              "    .dataframe thead th {\n",
              "        text-align: right;\n",
              "    }\n",
              "</style>\n",
              "<table border=\"1\" class=\"dataframe\">\n",
              "  <thead>\n",
              "    <tr style=\"text-align: right;\">\n",
              "      <th></th>\n",
              "      <th>0</th>\n",
              "      <th>1</th>\n",
              "    </tr>\n",
              "  </thead>\n",
              "  <tbody>\n",
              "    <tr>\n",
              "      <th>0</th>\n",
              "      <td>0.948673</td>\n",
              "      <td>0.051327</td>\n",
              "    </tr>\n",
              "    <tr>\n",
              "      <th>1</th>\n",
              "      <td>0.948673</td>\n",
              "      <td>0.051327</td>\n",
              "    </tr>\n",
              "    <tr>\n",
              "      <th>2</th>\n",
              "      <td>0.948673</td>\n",
              "      <td>0.051327</td>\n",
              "    </tr>\n",
              "    <tr>\n",
              "      <th>3</th>\n",
              "      <td>0.966333</td>\n",
              "      <td>0.033667</td>\n",
              "    </tr>\n",
              "    <tr>\n",
              "      <th>4</th>\n",
              "      <td>0.948673</td>\n",
              "      <td>0.051327</td>\n",
              "    </tr>\n",
              "  </tbody>\n",
              "</table>\n",
              "</div>"
            ],
            "text/plain": [
              "          0         1\n",
              "0  0.948673  0.051327\n",
              "1  0.948673  0.051327\n",
              "2  0.948673  0.051327\n",
              "3  0.966333  0.033667\n",
              "4  0.948673  0.051327"
            ]
          },
          "metadata": {},
          "execution_count": 22
        }
      ]
    },
    {
      "cell_type": "markdown",
      "metadata": {
        "id": "UOX0bcaihERu"
      },
      "source": [
        "# **Save Reults File**"
      ]
    },
    {
      "cell_type": "code",
      "metadata": {
        "id": "c2EYltsR1UR_"
      },
      "source": [
        "quotefile = r'/gdrive/My Drive/CIS 508/Assignment 3/QuoteNumber.csv'\n",
        "qN = pd.read_csv(quotefile)"
      ],
      "execution_count": null,
      "outputs": []
    },
    {
      "cell_type": "code",
      "metadata": {
        "id": "8kSxCW6MhEzR"
      },
      "source": [
        "results = qN['QuoteNumber']\n",
        "results_df = pd.DataFrame(results, columns=['QuoteNumber'])"
      ],
      "execution_count": null,
      "outputs": []
    },
    {
      "cell_type": "code",
      "metadata": {
        "id": "Ptv-4m7C5LiP"
      },
      "source": [
        "#Stacked\n",
        "results_df['QuoteConversion_Flag'] = stack_Probability.iloc[:, -1]\n",
        "results_df.to_csv(\"/gdrive/My Drive/CIS 508/Assignment 3/stacked_result.csv\", index = None)"
      ],
      "execution_count": null,
      "outputs": []
    },
    {
      "cell_type": "code",
      "metadata": {
        "id": "qEJHpXGU1OBc"
      },
      "source": [
        "#Decision Tree\n",
        "results_df['QuoteConversion_Flag'] = clf_Probability.iloc[:, -1]\n",
        "results_df.to_csv(\"/gdrive/My Drive/CIS 508/Assignment 3/DT_result.csv\", index = None)"
      ],
      "execution_count": null,
      "outputs": []
    },
    {
      "cell_type": "code",
      "metadata": {
        "id": "WPQIQcj5d-EP"
      },
      "source": [
        "#Random Forest\n",
        "results_df['QuoteConversion_Flag'] = rfc_Probability.iloc[:, -1]\n",
        "results_df.to_csv(\"/gdrive/My Drive/CIS 508/Assignment 3/RF_result.csv\", index = None)"
      ],
      "execution_count": null,
      "outputs": []
    },
    {
      "cell_type": "code",
      "metadata": {
        "id": "IpAXCSW2eHRF"
      },
      "source": [
        "#SVM\n",
        "results_df['QuoteConversion_Flag'] = svc_Probability.iloc[:, -1]\n",
        "results_df.to_csv(\"/gdrive/My Drive/CIS 508/Assignment 3/SVM_result.csv\", index = None)"
      ],
      "execution_count": null,
      "outputs": []
    },
    {
      "cell_type": "code",
      "metadata": {
        "id": "rdVdw8xceHt4"
      },
      "source": [
        "#MLP\n",
        "results_df['QuoteConversion_Flag'] = mlp_Probability.iloc[:, -1]\n",
        "results_df.to_csv(\"/gdrive/My Drive/CIS 508/Assignment 3/MLP_result.csv\", index = None)"
      ],
      "execution_count": null,
      "outputs": []
    },
    {
      "cell_type": "code",
      "metadata": {
        "id": "isVsUvWveZ-4"
      },
      "source": [
        "#KNC\n",
        "results_df['QuoteConversion_Flag'] = knc_Probability.iloc[:, -1]\n",
        "results_df.to_csv(\"/gdrive/My Drive/CIS 508/Assignment 3/KNC_result.csv\", index = None)"
      ],
      "execution_count": null,
      "outputs": []
    }
  ]
}